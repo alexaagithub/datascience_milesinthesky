{
 "cells": [
  {
   "cell_type": "markdown",
   "id": "e05cb709",
   "metadata": {},
   "source": [
    "# Practice exercises - while loops"
   ]
  },
  {
   "cell_type": "markdown",
   "id": "d4919983",
   "metadata": {},
   "source": [
    "## Exercise 1\n",
    "\n",
    "Convert the following while loop in a for loop:\n",
    "\n",
    "`i = 0\n",
    "l = [1, 2, 3, 4, 5]\n",
    "r = []`\n",
    "\n",
    "`while i < 5:\n",
    "    r.append(l[i] ** 2)\n",
    "    i += 1`"
   ]
  },
  {
   "cell_type": "code",
   "execution_count": 5,
   "id": "1b98df82",
   "metadata": {},
   "outputs": [
    {
     "name": "stdout",
     "output_type": "stream",
     "text": [
      "[1, 4, 9, 16, 25]\n"
     ]
    }
   ],
   "source": [
    "new_list = []\n",
    "l = [1, 2, 3, 4, 5]\n",
    "for i in l:\n",
    "    new_list.append(i**2)\n",
    "    \n",
    "print(new_list)"
   ]
  },
  {
   "cell_type": "markdown",
   "id": "f77305b1",
   "metadata": {},
   "source": [
    "## Exercise 2. Rock Paper Scissors\n",
    "\n",
    "Build an engine to play Rock Paper Scissors with you and gamble that! You have an initial balance of 1000€ and you will bet a variable amount every time you bet against the casino. A few things you need to know: \n",
    "\n",
    "* You will always play `paper` but this should be a variable - `my_choice = \"paper\"`\n",
    "* Every round you will randomly place a bet between 10€ and 20€\n",
    "* The computer will randomly choose rock paper scissors\n",
    "* Keep track of every round result (\"win\", \"lose\" or \"tie\") - for this you can create a list and append the result of the round.\n",
    "* At the end, print the result with how many rounds you played and your final balance\n",
    "* Update your balance accordingly\n",
    "\n",
    "##### Rules of the game\n",
    "* If you lose, you lose twice your bet amount.\n",
    "* If you win, you win three times your bet amount\n",
    "* In a case of tie, you lose 100 (it's a broken casino!!!) \n",
    "\n",
    "You will play this game under the \"go big or go home\" moto. Here are the conditions: \n",
    "* Play while you have more than 100€ \n",
    "* Play until you double your balance (2000€) "
   ]
  },
  {
   "cell_type": "code",
   "execution_count": 38,
   "id": "14172576",
   "metadata": {},
   "outputs": [
    {
     "name": "stdout",
     "output_type": "stream",
     "text": [
      "Final balance is: 74\n"
     ]
    }
   ],
   "source": [
    "import random\n",
    "\n",
    "balance = 1000\n",
    "my_choice = \"paper\"\n",
    "results = []\n",
    "while balance > 100 and balance < 2000: \n",
    "    bet_amount = random.choice(range(10, 21))\n",
    "    computer_choice = random.choice([\"rock\", \"paper\", \"scissors\"])\n",
    "    if computer_choice == my_choice:\n",
    "        balance = balance - 100\n",
    "        results.append(\"tie\")\n",
    "    elif computer_choice == \"rock\":\n",
    "        balance = balance + 3 * bet_amount\n",
    "        results.append(\"win\")\n",
    "    elif computer_choice == \"scissors\":\n",
    "        balance = balance + 2 * bet_amount\n",
    "        results.append(\"lose\")\n",
    "\n",
    "print('Final balance is:', balance)"
   ]
  }
 ],
 "metadata": {
  "kernelspec": {
   "display_name": "Python 3",
   "language": "python",
   "name": "python3"
  },
  "language_info": {
   "codemirror_mode": {
    "name": "ipython",
    "version": 3
   },
   "file_extension": ".py",
   "mimetype": "text/x-python",
   "name": "python",
   "nbconvert_exporter": "python",
   "pygments_lexer": "ipython3",
   "version": "3.8.8"
  }
 },
 "nbformat": 4,
 "nbformat_minor": 5
}
