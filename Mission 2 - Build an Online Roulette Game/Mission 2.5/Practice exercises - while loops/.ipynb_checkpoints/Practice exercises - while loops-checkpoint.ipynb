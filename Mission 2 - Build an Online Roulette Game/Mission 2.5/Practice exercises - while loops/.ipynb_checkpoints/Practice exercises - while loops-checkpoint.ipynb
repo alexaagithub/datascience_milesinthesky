{
 "cells": [
  {
   "cell_type": "markdown",
   "id": "e05cb709",
   "metadata": {},
   "source": [
    "# Practice exercises - while loops"
   ]
  },
  {
   "cell_type": "markdown",
   "id": "d4919983",
   "metadata": {},
   "source": [
    "## Exercise 1\n",
    "\n",
    "Convert the following while loop in a for loop:\n",
    "\n",
    "`i = 0\n",
    "l = [1, 2, 3, 4, 5]\n",
    "r = []`\n",
    "\n",
    "`while i < 5:\n",
    "    r.append(l[i] ** 2)\n",
    "    i += 1`"
   ]
  },
  {
   "cell_type": "code",
   "execution_count": null,
   "id": "72435617",
   "metadata": {},
   "outputs": [],
   "source": []
  },
  {
   "cell_type": "markdown",
   "id": "f77305b1",
   "metadata": {},
   "source": [
    "## Exercise 2. Rock Paper Scissors\n",
    "\n",
    "Build an engine to play Rock Paper Scissors with you and gamble that! You have an initial balance of 1000€ and you will bet a variable amount every time you bet against the casino. A few things you need to know: \n",
    "\n",
    "* You will always play `paper` but this should be a variable - `my_choice = \"paper\"`\n",
    "* Every round you will randomly place a bet between 10€ and 20€\n",
    "* The computer will randomly choose rock paper scissors\n",
    "* Keep track of every round result (\"win\", \"lose\" or \"tie\") - for this you can create a list and append the result of the round.\n",
    "* At the end, print the result with how many rounds you played and your final balance\n",
    "* Update your balance accordingly\n",
    "\n",
    "##### Rules of the game\n",
    "* If you lose, you lose twice your bet amount.\n",
    "* If you win, you win three times your bet amount\n",
    "* In a case of tie, you lose 100 (it's a broken casino!!!) \n",
    "\n",
    "You will play this game under the \"go big or go home\" moto. Here are the conditions: \n",
    "* Play while you have more than 100€ \n",
    "* Play until you double your balance (2000€) "
   ]
  },
  {
   "cell_type": "code",
   "execution_count": null,
   "id": "4bcd2233",
   "metadata": {},
   "outputs": [],
   "source": []
  }
 ],
 "metadata": {
  "kernelspec": {
   "display_name": "Python 3",
   "language": "python",
   "name": "python3"
  },
  "language_info": {
   "codemirror_mode": {
    "name": "ipython",
    "version": 3
   },
   "file_extension": ".py",
   "mimetype": "text/x-python",
   "name": "python",
   "nbconvert_exporter": "python",
   "pygments_lexer": "ipython3",
   "version": "3.8.8"
  }
 },
 "nbformat": 4,
 "nbformat_minor": 5
}
