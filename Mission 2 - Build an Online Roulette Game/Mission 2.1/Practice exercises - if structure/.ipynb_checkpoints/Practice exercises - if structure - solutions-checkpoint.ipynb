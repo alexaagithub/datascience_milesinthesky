{
 "cells": [
  {
   "cell_type": "markdown",
   "id": "3004b413",
   "metadata": {},
   "source": [
    "# Practice exercises - if structure"
   ]
  },
  {
   "cell_type": "markdown",
   "id": "5308423d",
   "metadata": {},
   "source": [
    "## 1. Traffic lights\n",
    "Create a program that based on a traffic light (green, yellow, red), define the action that a driver can take (go, be careful, stop)"
   ]
  },
  {
   "cell_type": "code",
   "execution_count": 3,
   "id": "2f9b8c93",
   "metadata": {},
   "outputs": [
    {
     "name": "stdout",
     "output_type": "stream",
     "text": [
      "go\n"
     ]
    }
   ],
   "source": [
    "# code here\n",
    "light = 'green'\n",
    "\n",
    "if light == 'green':\n",
    "    action = 'go'\n",
    "elif light == 'yellow':\n",
    "    action = 'be careful'\n",
    "elif light == 'red':\n",
    "    action = 'stop'\n",
    "else:\n",
    "    action = None\n",
    "    \n",
    "print(action)"
   ]
  },
  {
   "cell_type": "markdown",
   "id": "97bd4cce",
   "metadata": {},
   "source": [
    "## 2. Cinema tickets\n",
    "\n",
    "Based on the following variables: \n",
    "- age = 21\n",
    "- is_student = True\n",
    "- day_of_week = \"Wednesday\"\n",
    "- full_price = 10.00\n",
    "\n",
    "What is the answer of the following code?\n",
    "\n",
    "```python\n",
    "if is_student and age < 18:\n",
    "    ticket_price = full_price / 2\n",
    "elif is_student and age >= 18:\n",
    "    ticket_price = full_price * 3 / 4\n",
    "elif day_of_week == \"Monday\":\n",
    "    ticket_price = full_price * 2 / 3   \n",
    "else:\n",
    "    ticket_price = full_price\n",
    "    \n",
    "print(ticket_price)\n",
    "```"
   ]
  },
  {
   "cell_type": "markdown",
   "id": "e071e9fa",
   "metadata": {},
   "source": [
    "**Answer:**"
   ]
  },
  {
   "cell_type": "markdown",
   "id": "97cb5e92",
   "metadata": {},
   "source": [
    "`7.50` (that comes from \"full_price * 3 / 4\")"
   ]
  },
  {
   "cell_type": "markdown",
   "id": "22279859",
   "metadata": {},
   "source": [
    "## 3. Shopping\n",
    "Given the following code:\n",
    "\n",
    "```python\n",
    "groceries = {\"eggs\": 3, \"milk\": 4, \"tomatoes\": 4, \"soaps\": 1, \"carrots\": 6}\n",
    "budget = 10\n",
    "\n",
    "if len(groceries) > 4:\n",
    "    if groceries[\"eggs\"] > 6 and groceries[\"milk\"] > 2:\n",
    "        budget = 12\n",
    "    elif groceries[\"tomatoes\"] <= 2 or groceries[\"carrots\"] < 3:\n",
    "        budget = 32\n",
    "    elif groceries[\"soaps\"] < 4 or groceries[\"eggs\"] > 6:\n",
    "        budget = 40\n",
    "    else:\n",
    "        budget = 18\n",
    "else:\n",
    "    if groceries[\"eggs\"] < 6 and groceries[\"milk\"] <= 4:\n",
    "        budget = 6\n",
    "    elif groceries[\"tomatoes\"] < 2 or groceries[\"carrots\"] < 3:\n",
    "        budget = 4\n",
    "    else:\n",
    "        budget = 8\n",
    "```\n",
    "        \n",
    "What is the value of the variable budget?"
   ]
  },
  {
   "cell_type": "markdown",
   "id": "39901837",
   "metadata": {},
   "source": [
    "**Answer:**"
   ]
  },
  {
   "cell_type": "markdown",
   "id": "e8d42757",
   "metadata": {},
   "source": [
    "budget = 40"
   ]
  },
  {
   "cell_type": "markdown",
   "id": "3d871da7",
   "metadata": {},
   "source": [
    "## 4. Rock Paper Scissors"
   ]
  },
  {
   "cell_type": "markdown",
   "id": "99cf717a",
   "metadata": {},
   "source": [
    "### 4.1.\n",
    "\n",
    "Build an engine to play Rock Paper Scissors with you and gamble that! You have an initial balance of 1000€ and you will bet a variable amount every time you bet against the machine. A few things you need to know: \n",
    "\n",
    "* You will always play `paper` but this should be a variable - `my_choice = \"paper\"`\n",
    "* You place a bet of 10€\n",
    "* The computer will randomly choose rock, paper or scissors\n",
    "* In case you win, you earn a value equal to the bet amount; if you lose or tie, you lose what you've bet.\n",
    "* Update your balance accordingly"
   ]
  },
  {
   "cell_type": "code",
   "execution_count": 12,
   "id": "7854e837",
   "metadata": {},
   "outputs": [
    {
     "name": "stdout",
     "output_type": "stream",
     "text": [
      "paper 990\n"
     ]
    }
   ],
   "source": [
    "import random\n",
    "\n",
    "balance = 1000\n",
    "my_choice = \"paper\"\n",
    "bet_amount = 10\n",
    "\n",
    "computer_choice = random.choice([\"rock\", \"paper\", \"scissors\"])\n",
    "if computer_choice == \"rock\":\n",
    "    balance = balance + bet_amount\n",
    "elif computer_choice != \"rock\":\n",
    "    balance = balance - bet_amount\n",
    "\n",
    "print(computer_choice, balance)"
   ]
  },
  {
   "cell_type": "markdown",
   "id": "29a8ece7",
   "metadata": {},
   "source": [
    "### 4.2.\n",
    "\n",
    "The casino implemented new rules for the game: \n",
    "\n",
    "* if you win you win three times your bet amount\n",
    "* if you lose, you lose the amount you bet\n",
    "* In a case of tie, you lose 100 (it's a broken casino!!!)\n",
    "\n",
    "Make the previous code work for these new rules."
   ]
  },
  {
   "cell_type": "code",
   "execution_count": 15,
   "id": "dca5c556",
   "metadata": {},
   "outputs": [
    {
     "name": "stdout",
     "output_type": "stream",
     "text": [
      "paper 900\n"
     ]
    }
   ],
   "source": [
    "import random\n",
    "\n",
    "balance = 1000\n",
    "my_choice = \"paper\"\n",
    "bet_amount = 10\n",
    "\n",
    "computer_choice = random.choice([\"rock\", \"paper\", \"scissors\"])\n",
    "if computer_choice == my_choice:\n",
    "    balance = balance - 100\n",
    "elif computer_choice == \"rock\":\n",
    "    balance = balance + 3 * bet_amount\n",
    "elif computer_choice == \"scissors\":\n",
    "    balance = balance - bet_amount\n",
    "\n",
    "print(computer_choice, balance)"
   ]
  }
 ],
 "metadata": {
  "kernelspec": {
   "display_name": "Python 3",
   "language": "python",
   "name": "python3"
  },
  "language_info": {
   "codemirror_mode": {
    "name": "ipython",
    "version": 3
   },
   "file_extension": ".py",
   "mimetype": "text/x-python",
   "name": "python",
   "nbconvert_exporter": "python",
   "pygments_lexer": "ipython3",
   "version": "3.8.8"
  }
 },
 "nbformat": 4,
 "nbformat_minor": 5
}
