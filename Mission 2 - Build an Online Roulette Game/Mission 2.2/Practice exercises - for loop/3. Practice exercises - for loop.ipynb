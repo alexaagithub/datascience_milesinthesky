{
 "cells": [
  {
   "cell_type": "markdown",
   "id": "e50281e3",
   "metadata": {},
   "source": [
    "# Practice exercises - for loop"
   ]
  },
  {
   "cell_type": "markdown",
   "id": "39c89c1a",
   "metadata": {},
   "source": [
    "## Exercise 1\n",
    "\n",
    "Calculate the sum of all positive integers until 100 (1 + 2 + 3 +...+ 100)."
   ]
  },
  {
   "cell_type": "code",
   "execution_count": null,
   "id": "c75c4dac",
   "metadata": {},
   "outputs": [],
   "source": []
  },
  {
   "cell_type": "markdown",
   "id": "3e580ea7",
   "metadata": {},
   "source": [
    "## Exercise 2"
   ]
  },
  {
   "cell_type": "markdown",
   "id": "650c0d24",
   "metadata": {},
   "source": [
    "Using a for loop, create a list that has the elements of the list `numbers` squared.\n",
    "\n",
    "```python\n",
    "numbers = [1, 2, 5, 10, 100, 150, 5000, 20000]\n",
    "```"
   ]
  },
  {
   "cell_type": "code",
   "execution_count": null,
   "id": "24678be9",
   "metadata": {},
   "outputs": [],
   "source": []
  },
  {
   "cell_type": "markdown",
   "id": "bf8a9b94",
   "metadata": {},
   "source": [
    "## Exercise 3\n",
    "\n",
    "Consider the following lists: \n",
    "\n",
    "`list_1 = [1, 2, 3, 4, 5]`\n",
    "\n",
    "`list_2 = [3, 4, 5, 6, 7]`\n",
    "\n",
    "Using a for loop, get all the elements that are on list_1 but not on list_2."
   ]
  },
  {
   "cell_type": "code",
   "execution_count": 1,
   "id": "fe24536c",
   "metadata": {},
   "outputs": [],
   "source": [
    "list_1 = [1, 2, 3, 4, 5]\n",
    "list_2 = [3, 4, 5, 6, 7]"
   ]
  },
  {
   "cell_type": "code",
   "execution_count": null,
   "id": "4a84e90e",
   "metadata": {},
   "outputs": [],
   "source": []
  },
  {
   "cell_type": "markdown",
   "id": "ab0ce4e5",
   "metadata": {},
   "source": [
    "## Exercise 4\n",
    "\n",
    "Create a program that print the multiplication tables from 1 to 10.\n",
    "\n",
    "Hint: You need to used a loop inside a loop 😉"
   ]
  },
  {
   "cell_type": "code",
   "execution_count": null,
   "id": "b4f603f3",
   "metadata": {},
   "outputs": [],
   "source": []
  }
 ],
 "metadata": {
  "kernelspec": {
   "display_name": "Python 3",
   "language": "python",
   "name": "python3"
  },
  "language_info": {
   "codemirror_mode": {
    "name": "ipython",
    "version": 3
   },
   "file_extension": ".py",
   "mimetype": "text/x-python",
   "name": "python",
   "nbconvert_exporter": "python",
   "pygments_lexer": "ipython3",
   "version": "3.8.8"
  }
 },
 "nbformat": 4,
 "nbformat_minor": 5
}
