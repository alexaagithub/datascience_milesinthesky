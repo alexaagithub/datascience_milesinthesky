{
 "cells": [
  {
   "cell_type": "markdown",
   "metadata": {},
   "source": [
    "# Mission 1"
   ]
  },
  {
   "cell_type": "markdown",
   "metadata": {},
   "source": [
    "### Energy and Water Accessibility and Consumption"
   ]
  },
  {
   "cell_type": "markdown",
   "metadata": {},
   "source": [
    "#### 1. Of all energy used in the world, how much comes from natural gas, coal and oil?\n",
    "\n",
    "Global direct primary energy consumption in TWh by source:\n",
    "* Coal: 43849\n",
    "* Solar: 724\n",
    "* Oil: 53620\n",
    "* Gas: 39292\n",
    "* Biomass: 11111\n",
    "* Other renewables: 652\n",
    "* Hydropower: 4222\n",
    "* Nuclear: 2796\n",
    "* Wind: 1430\n",
    "* Biofuels: 1143\n",
    "\n",
    "* **Total**: 158839"
   ]
  },
  {
   "cell_type": "code",
   "execution_count": 1,
   "metadata": {},
   "outputs": [
    {
     "name": "stdout",
     "output_type": "stream",
     "text": [
      "86.10039096191741\n"
     ]
    }
   ],
   "source": [
    "total = 158839\n",
    "coal = 43849\n",
    "gas = 39292\n",
    "oil = 53620\n",
    "gas_coal_oil = gas + coal + oil\n",
    "\n",
    "print(gas_coal_oil / total * 100)"
   ]
  },
  {
   "cell_type": "markdown",
   "metadata": {},
   "source": [
    "#### 2. How many people in the world have some access to electricity?\n",
    "\n",
    "\n",
    "Considered the following clusters of countries by income (every single country is represented in one of these groups):\n",
    "* Low income countries:\n",
    "    * total population: 647870823\n",
    "    * percentage of population with some access to electricity: 40.92%\n",
    "* Middle income countries:\n",
    "    * total population: 5786162963\n",
    "    * percentage of population with some access to electricity: 93.51%\n",
    "* High income countries\n",
    "    * total population: 1210795776\n",
    "    * percentage of population with some access to electricity: 99.99%"
   ]
  },
  {
   "cell_type": "code",
   "execution_count": 2,
   "metadata": {},
   "outputs": [
    {
     "data": {
      "text/plain": [
       "90.0186199202"
      ]
     },
     "execution_count": 2,
     "metadata": {},
     "output_type": "execute_result"
    }
   ],
   "source": [
    "world_pop_in_B = 7.65\n",
    "\n",
    "li_pop_elet = 647870823 * 0.4092\n",
    "mi_pop_elet = 5786162963 * 0.9351\n",
    "hi_pop_elet = 1210795776 * 0.9999\n",
    "\n",
    "(li_pop_elet + mi_pop_elet + hi_pop_elet) / (world_pop_in_B * 1000000000) * 100"
   ]
  },
  {
   "cell_type": "markdown",
   "metadata": {},
   "source": [
    "#### 3. What is the percentage of people with safely managed drinking-water services?\n",
    "\n",
    "\n",
    "* World population: 7.65 billion\n",
    "* Water services data:\n",
    "    - 5.4 billion people with water safely managed services\n",
    "    - 2.25 billion people without water safely managed services"
   ]
  },
  {
   "cell_type": "code",
   "execution_count": 3,
   "metadata": {},
   "outputs": [
    {
     "name": "stdout",
     "output_type": "stream",
     "text": [
      "70.58823529411765\n"
     ]
    }
   ],
   "source": [
    "world_pop_in_B = 7.65\n",
    "pop_with_water_service_in_B = 5.4\n",
    "\n",
    "prc_safe_water = pop_with_water_service_in_B / world_pop_in_B * 100\n",
    "\n",
    "print(prc_safe_water)"
   ]
  },
  {
   "cell_type": "markdown",
   "metadata": {},
   "source": [
    "#### 4. Of all the freshwater used in the world, how much goes to agriculture?\n",
    "\n",
    "\n",
    "* Water consumption per region\n",
    "    * **BRICS** consumption is 1.73 trillion m3 per year\n",
    "    * **OECD** consumption is 0.93 trillion m3 per year\n",
    "    * **ROW (rest of the world)** is 1.33 trillion m3 per year\n",
    "\n",
    "* Worldwide consumption per industry (considering only 3 consumption segments: households / domestic, industry and agriculture):\n",
    "    * 11% is used in households / domestic\n",
    "    * industrial consumption is 0.76 trillion m3 per year"
   ]
  },
  {
   "cell_type": "code",
   "execution_count": 4,
   "metadata": {},
   "outputs": [],
   "source": [
    "brics_water_trillion_m3 = 1.73 #1.69\n",
    "oecd_water_trillion_m3 = 0.93 #0.89\n",
    "row_water_trillion_m3 = 1.33 #1.29"
   ]
  },
  {
   "cell_type": "code",
   "execution_count": 5,
   "metadata": {},
   "outputs": [],
   "source": [
    "water_industrial_trillion_m3 = 0.76\n",
    "water_domestic_share = 0.11"
   ]
  },
  {
   "cell_type": "code",
   "execution_count": 6,
   "metadata": {},
   "outputs": [],
   "source": [
    "global_water_trillion_m3 = brics_water_trillion_m3 + oecd_water_trillion_m3 + row_water_trillion_m3"
   ]
  },
  {
   "cell_type": "code",
   "execution_count": 7,
   "metadata": {},
   "outputs": [
    {
     "name": "stdout",
     "output_type": "stream",
     "text": [
      "3.99\n"
     ]
    }
   ],
   "source": [
    "print(global_water_trillion_m3)"
   ]
  },
  {
   "cell_type": "code",
   "execution_count": 8,
   "metadata": {},
   "outputs": [],
   "source": [
    "water_agriculture_trillion = global_water_trillion_m3 - water_domestic_share * global_water_trillion_m3 - water_industrial_trillion_m3"
   ]
  },
  {
   "cell_type": "code",
   "execution_count": 9,
   "metadata": {},
   "outputs": [
    {
     "name": "stdout",
     "output_type": "stream",
     "text": [
      "2.7911\n"
     ]
    }
   ],
   "source": [
    "print(water_agriculture_trillion)"
   ]
  },
  {
   "cell_type": "code",
   "execution_count": 10,
   "metadata": {},
   "outputs": [
    {
     "name": "stdout",
     "output_type": "stream",
     "text": [
      "69.95238095238095\n"
     ]
    }
   ],
   "source": [
    "print(water_agriculture_trillion / global_water_trillion_m3 * 100)"
   ]
  },
  {
   "cell_type": "markdown",
   "metadata": {},
   "source": [
    "### Internet access"
   ]
  },
  {
   "cell_type": "markdown",
   "metadata": {},
   "source": [
    "#### 5. What is the total number of people with access to internet in the low income countries' group?\n",
    "\n",
    "Data:\n",
    "\n",
    "* **List of countries in aplhabetical order:** 'Afghanistan', 'Burkina Faso', 'Burundi', 'Central African Republic', 'Chad', 'Democratic Republic of Congo', 'Eritrea', 'Eritrea', 'Ethiopia', 'Gambia', 'Guinea', 'Guinea-Bissau', 'Liberia', 'Madagascar', 'Malawi', 'Mali', 'Mozambique', 'Niger', 'Niger', 'Rwanda', 'Sierra Leone', 'Somalia', 'South Sudan', 'Sudan', 'Syria', 'Togo', 'Uganda', 'Yemen';\n",
    "\n",
    "* **List of values of population with access to internet ordered (in alphabetical order of countries):** 4437830, 3323621, 618320, 207679, 1067680, 7702280, 41781, 21383226, 478499, 2862948, 76751, 1669033, 1301477, 2639933, 2571855, 6501130, 2469076, 2823581, 1052962, 317864, 895498, 13549424, 6002725, 1026563, 10840617, 7963533.\n",
    "\n",
    "Instructions:\n",
    "- Create a list with the list of values ordered\n",
    "- Using the sum function, sum all the values from that list"
   ]
  },
  {
   "cell_type": "code",
   "execution_count": 11,
   "metadata": {},
   "outputs": [
    {
     "data": {
      "text/plain": [
       "103825886"
      ]
     },
     "execution_count": 11,
     "metadata": {},
     "output_type": "execute_result"
    }
   ],
   "source": [
    "income_values = [4437830, 3323621, 618320, 207679, 1067680, 7702280, 41781, 21383226, 478499, 2862948, 76751, 1669033, 1301477, 2639933, 2571855, 6501130, 2469076, 2823581, 1052962, 317864, 895498, 13549424, 6002725, 1026563, 10840617, 7963533]\n",
    "\n",
    "sum(income_values)"
   ]
  },
  {
   "cell_type": "markdown",
   "metadata": {},
   "source": [
    "#### 6. What is average percentage of the population with access to internet among the low income countries?\n",
    "\n",
    "Data:\n",
    "* **List of values of % population with access to internet ordered (in alphabetical order of countries):** 11.4, 15.9, 5.2, 4.3, 6.5, 8.6, 1.3, 18.6, 19.8, 21.8, 3.9, 33.0, 4.7, 13.8, 12.7, 20.8, 10.2, 21.8, 13.2, 2.0, 8.0, 30.9, 34.3, 12.4, 23.7, 26.7.\n",
    "\n",
    "Instructions:\n",
    "* Create a list with values of % population with access to internet ordered\n",
    "* Using the built-in function sum(), sum all the values from that list and assign it to a variable\n",
    "* Check the length of the list with the built-in function len() and assign it to a variable\n",
    "* Print the division of both"
   ]
  },
  {
   "cell_type": "code",
   "execution_count": 12,
   "metadata": {},
   "outputs": [],
   "source": [
    "income_prc = [11.4, 15.9, 5.2, 4.3, 6.5, 8.6, 1.3, 18.6, 19.8, 21.8, 3.9, 33.0, 4.7, 13.8, 12.7, 20.8, 10.2, 21.8, 13.2, 2.0, 8.0, 30.9, 34.3, 12.4, 23.7, 26.7]"
   ]
  },
  {
   "cell_type": "code",
   "execution_count": 13,
   "metadata": {},
   "outputs": [
    {
     "name": "stdout",
     "output_type": "stream",
     "text": [
      "14.826923076923075\n"
     ]
    }
   ],
   "source": [
    "income_prc_sum = sum(income_prc)\n",
    "income_prc_len = len(income_prc)\n",
    "\n",
    "print(income_prc_sum/income_prc_len)"
   ]
  },
  {
   "cell_type": "markdown",
   "metadata": {},
   "source": [
    "#### 7. Which country from the low income group has the highest percentage of population with access to internet?\n",
    "\n",
    "Instructions:\n",
    "* get the max from the list of values and assign it to a variable\n",
    "* using the list method index(), find the index of that value\n",
    "* analyze the income_countries and check for duplicates (yes, there will be duplicates)\n",
    "* remove those (a small tip: a set has no duplicate values; creating a set from a list with duplicates will remove the duplicates)\n",
    "* transform the set into a list again and order it (alphabetically)\n",
    "* now, using the index obtained in the 2nd step, access to that list and get the name of the country\n"
   ]
  },
  {
   "cell_type": "code",
   "execution_count": 14,
   "metadata": {},
   "outputs": [],
   "source": [
    "max_prc = max(income_prc)\n",
    "\n",
    "index_max_prc = income_prc.index(max_prc)"
   ]
  },
  {
   "cell_type": "code",
   "execution_count": 15,
   "metadata": {},
   "outputs": [],
   "source": [
    "income_countries = ['Afghanistan', 'Burkina Faso', 'Burundi', 'Central African Republic', 'Chad', 'Democratic Republic of Congo', 'Eritrea', 'Eritrea', 'Ethiopia', 'Gambia', 'Guinea', 'Guinea-Bissau', 'Liberia', 'Madagascar', 'Malawi', 'Mali', 'Mozambique', 'Niger', 'Niger', 'Rwanda', 'Sierra Leone', 'Somalia', 'South Sudan', 'Sudan', 'Syria', 'Togo', 'Uganda', 'Yemen']"
   ]
  },
  {
   "cell_type": "code",
   "execution_count": 16,
   "metadata": {},
   "outputs": [
    {
     "name": "stdout",
     "output_type": "stream",
     "text": [
      "28\n",
      "26\n"
     ]
    }
   ],
   "source": [
    "print(len(income_countries))\n",
    "print(len(set(income_countries)))"
   ]
  },
  {
   "cell_type": "code",
   "execution_count": 17,
   "metadata": {
    "scrolled": true
   },
   "outputs": [
    {
     "data": {
      "text/plain": [
       "'Syria'"
      ]
     },
     "execution_count": 17,
     "metadata": {},
     "output_type": "execute_result"
    }
   ],
   "source": [
    "income_countries_clean = list(set(income_countries))\n",
    "\n",
    "income_countries_clean.sort()\n",
    "\n",
    "income_countries_clean[index_max_prc]"
   ]
  },
  {
   "cell_type": "markdown",
   "metadata": {},
   "source": [
    "#### 8. If we add the lower-middle income countries, what is the average percentage of the population with access to internet (among the low and lower-middle income countries)?\n",
    "\n",
    "Data:\n",
    "\n",
    "* **List of countries from lower-middle income countries in aplhabetical order:** 'Algeria', 'Angola', 'Bangladesh', 'Belize', 'Benin', 'Bhutan', 'Bolivia', 'Cambodia', 'Cameroon', 'Cape Verde', 'Comoros', 'Congo', \"Cote d'Ivoire\", 'Djibouti', 'Egypt', 'El Salvador', 'Eswatini', 'Ghana', 'Haiti', 'Honduras', 'India', 'Indonesia', 'Iran', 'Kenya', 'Kiribati', 'Kyrgyzstan', 'Laos', 'Lesotho', 'Mauritania', 'Micronesia (country)', 'Mongolia', 'Morocco', 'Myanmar', 'Nepal', 'Nicaragua', 'Nigeria', 'Pakistan', 'Palestine', 'Papua New Guinea', 'Philippines', 'Samoa', 'Sao Tome and Principe', 'Senegal', 'Solomon Islands', 'Sri Lanka', 'Tajikistan', 'Tanzania', 'Timor', 'Tunisia', 'Ukraine', 'Uzbekistan', 'Vanuatu', 'Vietnam', 'Zambia', 'Zimbabwe'\n",
    "\n",
    "* **List of values of % population with access to internet ordered (in alphabetical order of countries):**\n",
    "49.0, 21.4, 18.0, 47.1, 14.1, 41.8, 44.3, 40.5, 23.2, 57.2, 8.5, 8.6, 43.8, 55.7, 57.3, 33.8, 30.3, 37.9, 32.5, 32.1, 32.0, 47.7, 70.0, 22.6, 14.6, 38.2, 25.5, 32.5, 20.8, 35.3, 51.1, 74.4, 25.1, 21.4, 27.9, 36.0, 17.1, 70.6, 11.2, 60.1, 33.6, 29.9, 29.6, 11.9, 34.1, 22.0, 20.0, 27.5, 66.7, 62.6, 55.2, 25.7, 69.8, 27.9, 27.1"
   ]
  },
  {
   "cell_type": "code",
   "execution_count": 18,
   "metadata": {},
   "outputs": [],
   "source": [
    "lower_countries = ['Algeria', 'Angola', 'Bangladesh', 'Belize', 'Benin', 'Bhutan', 'Bolivia', 'Cambodia', 'Cameroon', 'Cape Verde', 'Comoros', 'Congo', \"Cote d'Ivoire\", 'Djibouti', 'Egypt', 'El Salvador', 'Eswatini', 'Ghana', 'Haiti', 'Honduras', 'India', 'Indonesia', 'Iran', 'Kenya', 'Kiribati', 'Kyrgyzstan', 'Laos', 'Lesotho', 'Mauritania', 'Micronesia (country)', 'Mongolia', 'Morocco', 'Myanmar', 'Nepal', 'Nicaragua', 'Nigeria', 'Pakistan', 'Palestine', 'Papua New Guinea', 'Philippines', 'Samoa', 'Sao Tome and Principe', 'Senegal', 'Solomon Islands', 'Sri Lanka', 'Tajikistan', 'Tanzania', 'Timor', 'Tunisia', 'Ukraine', 'Uzbekistan', 'Vanuatu', 'Vietnam', 'Zambia', 'Zimbabwe']\n",
    "lower_prc = [49.0, 21.4, 18.0, 47.1, 14.1, 41.8, 44.3, 40.5, 23.2, 57.2, 8.5, 8.6, 43.8, 55.7, 57.3, 33.8, 30.3, 37.9, 32.5, 32.1, 32.0, 47.7, 70.0, 22.6, 14.6, 38.2, 25.5, 32.5, 20.8, 35.3, 51.1, 74.4, 25.1, 21.4, 27.9, 36.0, 17.1, 70.6, 11.2, 60.1, 33.6, 29.9, 29.6, 11.9, 34.1, 22.0, 20.0, 27.5, 66.7, 62.6, 55.2, 25.7, 69.8, 27.9, 27.1]"
   ]
  },
  {
   "cell_type": "code",
   "execution_count": 19,
   "metadata": {},
   "outputs": [
    {
     "data": {
      "text/plain": [
       "29.139506172839493"
      ]
     },
     "execution_count": 19,
     "metadata": {},
     "output_type": "execute_result"
    }
   ],
   "source": [
    "low_lower_income_prc = income_prc + lower_prc\n",
    "sum(low_lower_income_prc) / len(low_lower_income_prc)"
   ]
  },
  {
   "cell_type": "markdown",
   "metadata": {},
   "source": [
    "**9. What is the percentage of population in Europe & Central Asia with some access to Internet in 2019?**\n",
    "\n",
    "Use the following dictionary with the population with access to internet by region for the exercise:\n",
    "\n",
    "```\n",
    "{\"East Asia & Pacific\": 1332951361,\n",
    "\"Europe & Central Asia\": 737270551,\n",
    "\"Latin America & Caribbean\": 430064244,\n",
    "\"Middle East & North Africa\": 301099965,\n",
    "\"North America\": 326887183,\n",
    "\"South Asia\": 527829719,\n",
    "\"Sub-Saharan Africa\": 276618220}\n",
    "```\n",
    "Consider the Europe & Central Asia population as 921455672.\n",
    "\n",
    "Instructions:\n",
    "* Create the dictionary and assign it to a variable\n",
    "* Access to the element of the dictionary and assign it to a variable\n",
    "* Create a variable for the Europe & Central Asia population\n",
    "* Create a variable with the division between the two variables created before\n",
    "* Print it."
   ]
  },
  {
   "cell_type": "code",
   "execution_count": 20,
   "metadata": {},
   "outputs": [],
   "source": [
    "region_internet_pop = {\n",
    "    \"East Asia & Pacific\": 1332951361,\n",
    "    \"Europe & Central Asia\": 737270551,\n",
    "    \"Latin America & Caribbean\": 430064244,\n",
    "    \"Middle East & North Africa\": 301099965,\n",
    "    \"North America\": 326887183,\n",
    "    \"South Asia\": 527829719,\n",
    "    \"Sub-Saharan Africa\": 276618220\n",
    "}"
   ]
  },
  {
   "cell_type": "code",
   "execution_count": 21,
   "metadata": {},
   "outputs": [
    {
     "name": "stdout",
     "output_type": "stream",
     "text": [
      "80.0115049918538\n"
     ]
    }
   ],
   "source": [
    "EU_CAS_internet = region_internet_pop['Europe & Central Asia']\n",
    "EU_CAS_pop = 921455672\n",
    "EU_CAS_prc = EU_CAS_internet / EU_CAS_pop * 100\n",
    "print(EU_CAS_prc)"
   ]
  },
  {
   "cell_type": "markdown",
   "metadata": {},
   "source": [
    "**10. What is the percentage of population in the world with some access to Internet in 2019?**\n",
    "\n",
    "Consider the World population as 7726810526\n",
    "\n",
    "Instructions:\n",
    "* Using the values() method, get a list with all the values of population with access to internet in 2019.\n",
    "* Using the built-in function sum(), get the sum of all the list elements and assign it into a variable\n",
    "* Create a variable with the World population\n",
    "* Create a variable with the division between the two variables created before\n",
    "* Print it"
   ]
  },
  {
   "cell_type": "code",
   "execution_count": 22,
   "metadata": {},
   "outputs": [
    {
     "name": "stdout",
     "output_type": "stream",
     "text": [
      "The percentage is 50.897083987846706\n"
     ]
    }
   ],
   "source": [
    "pop_internet_list = list(region_internet_pop.values())\n",
    "world_pop_internet = sum(pop_internet_list)\n",
    "world_pop = 7726810526\n",
    "world_pop_internet_prc = world_pop_internet / world_pop\n",
    "print('The percentage is', world_pop_internet_prc * 100)"
   ]
  },
  {
   "cell_type": "markdown",
   "metadata": {},
   "source": [
    "**11. What is the percentage of population in the group North America, Latin America & Caribbean with some access to Internet in 2019?**\n",
    "\n",
    "Use the following dictionary with each region mapped to a dictionary with the population and the population with access to internet by region for the exercise:\n",
    "\n",
    "\n",
    "```\n",
    "{'East Asia & Pacific': {\n",
    "     'population': 2328453894, 'pop_internet': 1332951361\n",
    "     },\n",
    " 'Europe & Central Asia': {\n",
    "     'population': 921455672, 'pop_internet': 737270551\n",
    "     },\n",
    " 'Latin America & Caribbean': {\n",
    "     'population': 652196854,'pop_internet': 430064244\n",
    "     },\n",
    " 'Middle East & North Africa': {\n",
    "     'population': 464554123,'pop_internet': 301099965\n",
    "     },\n",
    " 'North America': {\n",
    "     'population': 367553264, 'pop_internet': 326887183\n",
    "     },\n",
    " 'South Asia': {\n",
    "     'population': 1856882402, 'pop_internet': 527829719\n",
    "     },\n",
    " 'Sub-Saharan Africa': {\n",
    "     'population': 1135714317, 'pop_internet': 276618220\n",
    "     }\n",
    "}\n",
    "```\n",
    "\n",
    "Instructions:\n",
    "* Get the values for population and pop_internet of 'North America' and 'Latin America & Caribbean' by accessing to the nested dict and assign them to variables\n",
    "* Sum the values of pop_internet and divide it by the sum of the values of population. Assign the result of the division to a variable\n",
    "* Print it."
   ]
  },
  {
   "cell_type": "code",
   "execution_count": 23,
   "metadata": {},
   "outputs": [],
   "source": [
    "region_int_pop2 = {\n",
    "     'East Asia & Pacific': {\n",
    "         'population': 2328453894, 'pop_internet': 1332951361\n",
    "         },\n",
    "     'Europe & Central Asia': {\n",
    "         'population': 921455672, 'pop_internet': 737270551\n",
    "         },\n",
    "     'Latin America & Caribbean': {\n",
    "         'population': 652196854,'pop_internet': 430064244\n",
    "         },\n",
    "     'Middle East & North Africa': {\n",
    "         'population': 464554123,'pop_internet': 301099965\n",
    "         },\n",
    "     'North America': {\n",
    "         'population': 367553264, 'pop_internet': 326887183\n",
    "         },\n",
    "     'South Asia': {\n",
    "         'population': 1856882402, 'pop_internet': 527829719\n",
    "         },\n",
    "     'Sub-Saharan Africa': {\n",
    "         'population': 1135714317, 'pop_internet': 276618220\n",
    "         }\n",
    "}"
   ]
  },
  {
   "cell_type": "code",
   "execution_count": 24,
   "metadata": {},
   "outputs": [
    {
     "name": "stdout",
     "output_type": "stream",
     "text": [
      "74.229109037475\n"
     ]
    }
   ],
   "source": [
    "NA_int = region_int_pop2['North America']['pop_internet']\n",
    "LAC_int = region_int_pop2['Latin America & Caribbean']['pop_internet']\n",
    "NA_pop = region_int_pop2['North America']['population']\n",
    "LAC_pop = region_int_pop2['Latin America & Caribbean']['population']\n",
    "\n",
    "NALAC_prc = (NA_int + LAC_int) / (NA_pop + LAC_pop) * 100\n",
    "\n",
    "print(NALAC_prc)"
   ]
  },
  {
   "cell_type": "markdown",
   "metadata": {},
   "source": [
    "### International refugees"
   ]
  },
  {
   "cell_type": "markdown",
   "metadata": {},
   "source": [
    "#### 12. What share of the world population are international refugees?\n",
    "\n",
    "Data:\n",
    "\n",
    "All the information you need, is in the resource called \"refugees_final_dataset.csv\". Download it, upload it to google colabs and gooood luck!"
   ]
  },
  {
   "cell_type": "code",
   "execution_count": 25,
   "metadata": {},
   "outputs": [],
   "source": [
    "import pandas as pd"
   ]
  },
  {
   "cell_type": "code",
   "execution_count": 26,
   "metadata": {},
   "outputs": [],
   "source": [
    "refugees_df = pd.read_csv('refugees/refugees_final_dataset.csv')"
   ]
  },
  {
   "cell_type": "code",
   "execution_count": 27,
   "metadata": {},
   "outputs": [
    {
     "data": {
      "text/html": [
       "<div>\n",
       "<style scoped>\n",
       "    .dataframe tbody tr th:only-of-type {\n",
       "        vertical-align: middle;\n",
       "    }\n",
       "\n",
       "    .dataframe tbody tr th {\n",
       "        vertical-align: top;\n",
       "    }\n",
       "\n",
       "    .dataframe thead th {\n",
       "        text-align: right;\n",
       "    }\n",
       "</style>\n",
       "<table border=\"1\" class=\"dataframe\">\n",
       "  <thead>\n",
       "    <tr style=\"text-align: right;\">\n",
       "      <th></th>\n",
       "      <th>country</th>\n",
       "      <th>region</th>\n",
       "      <th>population</th>\n",
       "      <th>refugees</th>\n",
       "    </tr>\n",
       "  </thead>\n",
       "  <tbody>\n",
       "    <tr>\n",
       "      <th>0</th>\n",
       "      <td>Afghanistan</td>\n",
       "      <td>South Asia</td>\n",
       "      <td>38928341</td>\n",
       "      <td>72400</td>\n",
       "    </tr>\n",
       "    <tr>\n",
       "      <th>1</th>\n",
       "      <td>Angola</td>\n",
       "      <td>Sub-Saharan Africa</td>\n",
       "      <td>32866268</td>\n",
       "      <td>56100</td>\n",
       "    </tr>\n",
       "    <tr>\n",
       "      <th>2</th>\n",
       "      <td>Albania</td>\n",
       "      <td>Europe &amp; Central Asia</td>\n",
       "      <td>2837743</td>\n",
       "      <td>115</td>\n",
       "    </tr>\n",
       "    <tr>\n",
       "      <th>3</th>\n",
       "      <td>Andorra</td>\n",
       "      <td>Europe &amp; Central Asia</td>\n",
       "      <td>77265</td>\n",
       "      <td>0</td>\n",
       "    </tr>\n",
       "    <tr>\n",
       "      <th>4</th>\n",
       "      <td>United Arab Emirates</td>\n",
       "      <td>Middle East &amp; North Africa</td>\n",
       "      <td>9890400</td>\n",
       "      <td>8560</td>\n",
       "    </tr>\n",
       "  </tbody>\n",
       "</table>\n",
       "</div>"
      ],
      "text/plain": [
       "                country                      region  population  refugees\n",
       "0           Afghanistan                  South Asia    38928341     72400\n",
       "1                Angola          Sub-Saharan Africa    32866268     56100\n",
       "2               Albania       Europe & Central Asia     2837743       115\n",
       "3               Andorra       Europe & Central Asia       77265         0\n",
       "4  United Arab Emirates  Middle East & North Africa     9890400      8560"
      ]
     },
     "execution_count": 27,
     "metadata": {},
     "output_type": "execute_result"
    }
   ],
   "source": [
    "refugees_df.head()"
   ]
  },
  {
   "cell_type": "code",
   "execution_count": 28,
   "metadata": {},
   "outputs": [
    {
     "data": {
      "text/plain": [
       "Index(['country', 'region', 'population', 'refugees'], dtype='object')"
      ]
     },
     "execution_count": 28,
     "metadata": {},
     "output_type": "execute_result"
    }
   ],
   "source": [
    "refugees_df.columns"
   ]
  },
  {
   "cell_type": "code",
   "execution_count": 29,
   "metadata": {},
   "outputs": [
    {
     "data": {
      "text/plain": [
       "country       object\n",
       "region        object\n",
       "population     int64\n",
       "refugees       int64\n",
       "dtype: object"
      ]
     },
     "execution_count": 29,
     "metadata": {},
     "output_type": "execute_result"
    }
   ],
   "source": [
    "refugees_df.dtypes"
   ]
  },
  {
   "cell_type": "code",
   "execution_count": 30,
   "metadata": {},
   "outputs": [
    {
     "data": {
      "text/plain": [
       "(194, 4)"
      ]
     },
     "execution_count": 30,
     "metadata": {},
     "output_type": "execute_result"
    }
   ],
   "source": [
    "refugees_df.shape"
   ]
  },
  {
   "cell_type": "code",
   "execution_count": 31,
   "metadata": {},
   "outputs": [
    {
     "data": {
      "text/plain": [
       "0.44376939338088806"
      ]
     },
     "execution_count": 31,
     "metadata": {},
     "output_type": "execute_result"
    }
   ],
   "source": [
    "total_refugees = refugees_df.refugees.sum()\n",
    "total_population = refugees_df.population.sum()\n",
    "\n",
    "total_refugees / total_population * 100"
   ]
  },
  {
   "cell_type": "markdown",
   "metadata": {},
   "source": [
    "#### 13. Which country hosted the largest share of refugees in relation to its population in 2020?"
   ]
  },
  {
   "cell_type": "code",
   "execution_count": 32,
   "metadata": {},
   "outputs": [],
   "source": [
    "refugees_df['refugees_prc'] = refugees_df['refugees'] / refugees_df['population'] * 100"
   ]
  },
  {
   "cell_type": "code",
   "execution_count": 33,
   "metadata": {},
   "outputs": [
    {
     "data": {
      "text/html": [
       "<div>\n",
       "<style scoped>\n",
       "    .dataframe tbody tr th:only-of-type {\n",
       "        vertical-align: middle;\n",
       "    }\n",
       "\n",
       "    .dataframe tbody tr th {\n",
       "        vertical-align: top;\n",
       "    }\n",
       "\n",
       "    .dataframe thead th {\n",
       "        text-align: right;\n",
       "    }\n",
       "</style>\n",
       "<table border=\"1\" class=\"dataframe\">\n",
       "  <thead>\n",
       "    <tr style=\"text-align: right;\">\n",
       "      <th></th>\n",
       "      <th>country</th>\n",
       "      <th>region</th>\n",
       "      <th>population</th>\n",
       "      <th>refugees</th>\n",
       "      <th>refugees_prc</th>\n",
       "    </tr>\n",
       "  </thead>\n",
       "  <tbody>\n",
       "    <tr>\n",
       "      <th>145</th>\n",
       "      <td>Palestine</td>\n",
       "      <td>Middle East &amp; North Africa</td>\n",
       "      <td>5101414</td>\n",
       "      <td>2320000</td>\n",
       "      <td>45.477587</td>\n",
       "    </tr>\n",
       "  </tbody>\n",
       "</table>\n",
       "</div>"
      ],
      "text/plain": [
       "       country                      region  population  refugees  refugees_prc\n",
       "145  Palestine  Middle East & North Africa     5101414   2320000     45.477587"
      ]
     },
     "execution_count": 33,
     "metadata": {},
     "output_type": "execute_result"
    }
   ],
   "source": [
    "refugees_sorted = refugees_df.sort_values(by='refugees_prc')\n",
    "refugees_sorted.tail(1)"
   ]
  },
  {
   "cell_type": "markdown",
   "metadata": {},
   "source": [
    "#### 14. How many refugees are asyled in Germany in 2020?"
   ]
  },
  {
   "cell_type": "code",
   "execution_count": 34,
   "metadata": {},
   "outputs": [
    {
     "data": {
      "text/html": [
       "<div>\n",
       "<style scoped>\n",
       "    .dataframe tbody tr th:only-of-type {\n",
       "        vertical-align: middle;\n",
       "    }\n",
       "\n",
       "    .dataframe tbody tr th {\n",
       "        vertical-align: top;\n",
       "    }\n",
       "\n",
       "    .dataframe thead th {\n",
       "        text-align: right;\n",
       "    }\n",
       "</style>\n",
       "<table border=\"1\" class=\"dataframe\">\n",
       "  <thead>\n",
       "    <tr style=\"text-align: right;\">\n",
       "      <th></th>\n",
       "      <th>country</th>\n",
       "      <th>region</th>\n",
       "      <th>population</th>\n",
       "      <th>refugees</th>\n",
       "      <th>refugees_prc</th>\n",
       "    </tr>\n",
       "  </thead>\n",
       "  <tbody>\n",
       "    <tr>\n",
       "      <th>44</th>\n",
       "      <td>Germany</td>\n",
       "      <td>Europe &amp; Central Asia</td>\n",
       "      <td>83240525</td>\n",
       "      <td>1450000</td>\n",
       "      <td>1.74194</td>\n",
       "    </tr>\n",
       "  </tbody>\n",
       "</table>\n",
       "</div>"
      ],
      "text/plain": [
       "    country                 region  population  refugees  refugees_prc\n",
       "44  Germany  Europe & Central Asia    83240525   1450000       1.74194"
      ]
     },
     "execution_count": 34,
     "metadata": {},
     "output_type": "execute_result"
    }
   ],
   "source": [
    "refugees_df[refugees_df.country == 'Germany']"
   ]
  },
  {
   "cell_type": "code",
   "execution_count": 35,
   "metadata": {},
   "outputs": [
    {
     "data": {
      "text/html": [
       "<div>\n",
       "<style scoped>\n",
       "    .dataframe tbody tr th:only-of-type {\n",
       "        vertical-align: middle;\n",
       "    }\n",
       "\n",
       "    .dataframe tbody tr th {\n",
       "        vertical-align: top;\n",
       "    }\n",
       "\n",
       "    .dataframe thead th {\n",
       "        text-align: right;\n",
       "    }\n",
       "</style>\n",
       "<table border=\"1\" class=\"dataframe\">\n",
       "  <thead>\n",
       "    <tr style=\"text-align: right;\">\n",
       "      <th></th>\n",
       "      <th>country</th>\n",
       "      <th>region</th>\n",
       "      <th>population</th>\n",
       "      <th>refugees</th>\n",
       "      <th>refugees_prc</th>\n",
       "    </tr>\n",
       "  </thead>\n",
       "  <tbody>\n",
       "    <tr>\n",
       "      <th>96</th>\n",
       "      <td>Lao</td>\n",
       "      <td>East Asia &amp; Pacific</td>\n",
       "      <td>7275556</td>\n",
       "      <td>0</td>\n",
       "      <td>0.000000</td>\n",
       "    </tr>\n",
       "    <tr>\n",
       "      <th>173</th>\n",
       "      <td>Timor-Leste</td>\n",
       "      <td>East Asia &amp; Pacific</td>\n",
       "      <td>1318442</td>\n",
       "      <td>0</td>\n",
       "      <td>0.000000</td>\n",
       "    </tr>\n",
       "    <tr>\n",
       "      <th>113</th>\n",
       "      <td>Marshall Islands</td>\n",
       "      <td>East Asia &amp; Pacific</td>\n",
       "      <td>59194</td>\n",
       "      <td>0</td>\n",
       "      <td>0.000000</td>\n",
       "    </tr>\n",
       "    <tr>\n",
       "      <th>59</th>\n",
       "      <td>Micronesia, Fed. Sts.</td>\n",
       "      <td>East Asia &amp; Pacific</td>\n",
       "      <td>115021</td>\n",
       "      <td>0</td>\n",
       "      <td>0.000000</td>\n",
       "    </tr>\n",
       "    <tr>\n",
       "      <th>142</th>\n",
       "      <td>North Korea</td>\n",
       "      <td>East Asia &amp; Pacific</td>\n",
       "      <td>25778815</td>\n",
       "      <td>0</td>\n",
       "      <td>0.000000</td>\n",
       "    </tr>\n",
       "    <tr>\n",
       "      <th>...</th>\n",
       "      <td>...</td>\n",
       "      <td>...</td>\n",
       "      <td>...</td>\n",
       "      <td>...</td>\n",
       "      <td>...</td>\n",
       "    </tr>\n",
       "    <tr>\n",
       "      <th>135</th>\n",
       "      <td>Pakistan</td>\n",
       "      <td>South Asia</td>\n",
       "      <td>220892331</td>\n",
       "      <td>1450000</td>\n",
       "      <td>0.656428</td>\n",
       "    </tr>\n",
       "    <tr>\n",
       "      <th>37</th>\n",
       "      <td>Colombia</td>\n",
       "      <td>Latin America &amp; Caribbean</td>\n",
       "      <td>50882884</td>\n",
       "      <td>1750000</td>\n",
       "      <td>3.439270</td>\n",
       "    </tr>\n",
       "    <tr>\n",
       "      <th>145</th>\n",
       "      <td>Palestine</td>\n",
       "      <td>Middle East &amp; North Africa</td>\n",
       "      <td>5101414</td>\n",
       "      <td>2320000</td>\n",
       "      <td>45.477587</td>\n",
       "    </tr>\n",
       "    <tr>\n",
       "      <th>86</th>\n",
       "      <td>Jordan</td>\n",
       "      <td>Middle East &amp; North Africa</td>\n",
       "      <td>10203140</td>\n",
       "      <td>2980000</td>\n",
       "      <td>29.206695</td>\n",
       "    </tr>\n",
       "    <tr>\n",
       "      <th>177</th>\n",
       "      <td>Turkey</td>\n",
       "      <td>Europe &amp; Central Asia</td>\n",
       "      <td>84339067</td>\n",
       "      <td>3970000</td>\n",
       "      <td>4.707190</td>\n",
       "    </tr>\n",
       "  </tbody>\n",
       "</table>\n",
       "<p>194 rows × 5 columns</p>\n",
       "</div>"
      ],
      "text/plain": [
       "                   country                      region  population  refugees  \\\n",
       "96                     Lao         East Asia & Pacific     7275556         0   \n",
       "173            Timor-Leste         East Asia & Pacific     1318442         0   \n",
       "113       Marshall Islands         East Asia & Pacific       59194         0   \n",
       "59   Micronesia, Fed. Sts.         East Asia & Pacific      115021         0   \n",
       "142            North Korea         East Asia & Pacific    25778815         0   \n",
       "..                     ...                         ...         ...       ...   \n",
       "135               Pakistan                  South Asia   220892331   1450000   \n",
       "37                Colombia   Latin America & Caribbean    50882884   1750000   \n",
       "145              Palestine  Middle East & North Africa     5101414   2320000   \n",
       "86                  Jordan  Middle East & North Africa    10203140   2980000   \n",
       "177                 Turkey       Europe & Central Asia    84339067   3970000   \n",
       "\n",
       "     refugees_prc  \n",
       "96       0.000000  \n",
       "173      0.000000  \n",
       "113      0.000000  \n",
       "59       0.000000  \n",
       "142      0.000000  \n",
       "..            ...  \n",
       "135      0.656428  \n",
       "37       3.439270  \n",
       "145     45.477587  \n",
       "86      29.206695  \n",
       "177      4.707190  \n",
       "\n",
       "[194 rows x 5 columns]"
      ]
     },
     "execution_count": 35,
     "metadata": {},
     "output_type": "execute_result"
    }
   ],
   "source": [
    "refugees_df.sort_values(by='refugees')"
   ]
  },
  {
   "cell_type": "markdown",
   "metadata": {},
   "source": [
    "#### 15. Which of the regions hosted the largest number of international refugees in 2020?"
   ]
  },
  {
   "cell_type": "code",
   "execution_count": 36,
   "metadata": {
    "scrolled": false
   },
   "outputs": [
    {
     "data": {
      "text/plain": [
       "region\n",
       "East Asia & Pacific            797337\n",
       "Europe & Central Asia         7860074\n",
       "Latin America & Caribbean     5162910\n",
       "Middle East & North Africa    9101182\n",
       "North America                 1535000\n",
       "South Asia                    2617240\n",
       "Sub-Saharan Africa            7145776\n",
       "Name: refugees, dtype: int64"
      ]
     },
     "execution_count": 36,
     "metadata": {},
     "output_type": "execute_result"
    }
   ],
   "source": [
    "refugees_region = refugees_df.groupby(by='region')['refugees'].sum()\n",
    "refugees_region"
   ]
  },
  {
   "cell_type": "code",
   "execution_count": 38,
   "metadata": {
    "scrolled": true
   },
   "outputs": [
    {
     "data": {
      "text/plain": [
       "<matplotlib.axes._subplots.AxesSubplot at 0x7f06c805ae48>"
      ]
     },
     "execution_count": 38,
     "metadata": {},
     "output_type": "execute_result"
    },
    {
     "data": {
      "image/png": "[encoded data removed]",
      "text/plain": [
       "<Figure size 432x288 with 1 Axes>"
      ]
     },
     "metadata": {
      "needs_background": "light"
     },
     "output_type": "display_data"
    }
   ],
   "source": [
    "refugees_region.plot(kind='barh')"
   ]
  }
 ],
 "metadata": {
  "kernelspec": {
   "display_name": "Python 3",
   "language": "python",
   "name": "python3"
  },
  "language_info": {
   "codemirror_mode": {
    "name": "ipython",
    "version": 3
   },
   "file_extension": ".py",
   "mimetype": "text/x-python",
   "name": "python",
   "nbconvert_exporter": "python",
   "pygments_lexer": "ipython3",
   "version": "3.8.8"
  }
 },
 "nbformat": 4,
 "nbformat_minor": 2
}
