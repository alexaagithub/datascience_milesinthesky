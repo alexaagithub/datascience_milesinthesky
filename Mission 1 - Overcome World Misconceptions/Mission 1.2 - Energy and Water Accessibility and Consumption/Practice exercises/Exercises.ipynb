{
 "cells": [
  {
   "cell_type": "markdown",
   "metadata": {},
   "source": [
    "# Exercises"
   ]
  },
  {
   "cell_type": "markdown",
   "metadata": {},
   "source": [
    "## 1. Do the following one line at a time:\n",
    "\n",
    "\n",
    "- Initialize a string variable that holds the name of a stock (ex: AAPL)\n",
    "- Initialize a float variable with the value of the stock (ex: 25$)\n",
    "- Initialize an integer variable with the number of shares you would like to trade (ex: 100)\n",
    "- Initialize another variable with the action you would like to perform (buy or sell)\n",
    "- Print a string that says 'I would like to \"buy or sell\" \"n\" shares in \"name of stock\"' (ex: I would like to sell 100 shares in AAPL)"
   ]
  },
  {
   "cell_type": "code",
   "execution_count": null,
   "metadata": {},
   "outputs": [],
   "source": []
  },
  {
   "cell_type": "markdown",
   "metadata": {},
   "source": [
    "##  2. Multiply two variables\n",
    "\n",
    "- Create two variables and give them integer values\n",
    "- Multiply them together\n",
    "- Store the result in another variable"
   ]
  },
  {
   "cell_type": "code",
   "execution_count": null,
   "metadata": {},
   "outputs": [],
   "source": []
  },
  {
   "cell_type": "markdown",
   "metadata": {},
   "source": [
    "## 3. Conversion to fahrenheit and kelvin\n",
    "\n",
    "Today we need to convert celsius to fahrenheit and kelvin. Starting with the variable celsius at 30º, create the variables fahrenheit and kelvin that represent that temperature in that specific scale and print their value.\n",
    "\n",
    "Hint: you might have to google the conversion rates in order to complete this exercise"
   ]
  },
  {
   "cell_type": "code",
   "execution_count": null,
   "metadata": {},
   "outputs": [],
   "source": []
  },
  {
   "cell_type": "markdown",
   "metadata": {},
   "source": [
    "## 4. What is the return value of each of the following expressions?\n",
    "\n",
    "- 1\n",
    "- ‘hello’\n",
    "- ‘What’ + ‘ is ‘ + ‘my’ + ‘ name’\n",
    "- 30 / 5"
   ]
  },
  {
   "cell_type": "markdown",
   "metadata": {},
   "source": [
    "## 5. Calculate the distance (in meters) a light particle travels for 12 seconds.\n",
    "\n",
    "Assign the speed of light (2.99 x 10^8 m/s) to the variable speed_light. Use the scientific notation and 2 decimal places (2.99E8)."
   ]
  },
  {
   "cell_type": "code",
   "execution_count": null,
   "metadata": {},
   "outputs": [],
   "source": []
  },
  {
   "cell_type": "markdown",
   "metadata": {},
   "source": [
    "Assign the distance travelled by the particle (in meters) to variable distance_travelled."
   ]
  },
  {
   "cell_type": "code",
   "execution_count": null,
   "metadata": {},
   "outputs": [],
   "source": []
  },
  {
   "cell_type": "markdown",
   "metadata": {},
   "source": [
    "## 6. Solve the following problem:\n",
    "\n",
    "Steve used his savings of 2300 euros for some purchases. He spent 3/4 of his savings on furniture. He then spent 1/2 of his remaining savings on a fridge. How much money had Steve left on his savings after the purchases? Define a variable `savings_left`"
   ]
  },
  {
   "cell_type": "code",
   "execution_count": null,
   "metadata": {},
   "outputs": [],
   "source": []
  },
  {
   "cell_type": "markdown",
   "metadata": {},
   "source": [
    "## 7. Data type conversion"
   ]
  },
  {
   "cell_type": "markdown",
   "metadata": {},
   "source": [
    "Assign to variable size_string the value of variable size converted into a string"
   ]
  },
  {
   "cell_type": "code",
   "execution_count": null,
   "metadata": {},
   "outputs": [],
   "source": [
    "size = 1.78"
   ]
  },
  {
   "cell_type": "code",
   "execution_count": null,
   "metadata": {},
   "outputs": [],
   "source": []
  },
  {
   "cell_type": "markdown",
   "metadata": {},
   "source": [
    "Assign to variable age_int the value of variable age converted into a integer. "
   ]
  },
  {
   "cell_type": "code",
   "execution_count": null,
   "metadata": {
    "scrolled": true
   },
   "outputs": [],
   "source": [
    "age = \"34\""
   ]
  },
  {
   "cell_type": "code",
   "execution_count": null,
   "metadata": {},
   "outputs": [],
   "source": []
  },
  {
   "cell_type": "markdown",
   "metadata": {},
   "source": [
    "Assign to variable weight_float the value of variable weight converted into a float."
   ]
  },
  {
   "cell_type": "code",
   "execution_count": null,
   "metadata": {},
   "outputs": [],
   "source": [
    "weight = \"78.4\""
   ]
  },
  {
   "cell_type": "code",
   "execution_count": null,
   "metadata": {},
   "outputs": [],
   "source": []
  }
 ],
 "metadata": {
  "kernelspec": {
   "display_name": "Python 3",
   "language": "python",
   "name": "python3"
  },
  "language_info": {
   "codemirror_mode": {
    "name": "ipython",
    "version": 3
   },
   "file_extension": ".py",
   "mimetype": "text/x-python",
   "name": "python",
   "nbconvert_exporter": "python",
   "pygments_lexer": "ipython3",
   "version": "3.8.3"
  }
 },
 "nbformat": 4,
 "nbformat_minor": 5
}
