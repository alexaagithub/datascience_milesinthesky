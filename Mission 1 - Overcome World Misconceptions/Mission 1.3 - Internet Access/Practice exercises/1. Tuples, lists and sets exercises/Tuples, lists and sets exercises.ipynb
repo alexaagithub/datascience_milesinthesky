{
 "cells": [
  {
   "cell_type": "markdown",
   "id": "54fab761",
   "metadata": {},
   "source": [
    "# 1. Tuples"
   ]
  },
  {
   "cell_type": "markdown",
   "id": "0dfe9bbf",
   "metadata": {},
   "source": [
    "## Given the following tuple ('a','b','c')\n",
    "\n",
    "- What is the index of “c”?\n",
    "- What is the index of “a”\n",
    "- What is the index of “b”\n",
    "\n",
    "Demonstrate your understanding by assigning this tuple to a variable and accessing each of the values by their index.\n"
   ]
  },
  {
   "cell_type": "code",
   "execution_count": null,
   "id": "ae8375f6",
   "metadata": {},
   "outputs": [],
   "source": []
  },
  {
   "cell_type": "markdown",
   "id": "c3972c62",
   "metadata": {},
   "source": [
    "## Create a tuple of floats with size 5."
   ]
  },
  {
   "cell_type": "code",
   "execution_count": null,
   "id": "6e378515",
   "metadata": {},
   "outputs": [],
   "source": []
  },
  {
   "cell_type": "markdown",
   "id": "d284a2c4",
   "metadata": {},
   "source": [
    "## Index a tuple\n",
    "Considering the tuple below, assign the index of the element \"green\" to the variable green_index, using negative indexing."
   ]
  },
  {
   "cell_type": "code",
   "execution_count": null,
   "id": "47e2366d",
   "metadata": {},
   "outputs": [],
   "source": [
    "color = (\"red\", \"blue\", \"green\", \"yellow\", \"black\", \"white\")"
   ]
  },
  {
   "cell_type": "code",
   "execution_count": null,
   "id": "b93c69ae",
   "metadata": {},
   "outputs": [],
   "source": []
  },
  {
   "cell_type": "markdown",
   "id": "0df8f57e",
   "metadata": {},
   "source": [
    "## Slice a tuple\n",
    "Extract (\"red\", \"green\", \"black\") from tuple color.\n",
    "Assign the results to a variable called rgb."
   ]
  },
  {
   "cell_type": "code",
   "execution_count": null,
   "id": "fcdfde0d",
   "metadata": {},
   "outputs": [],
   "source": []
  },
  {
   "cell_type": "markdown",
   "id": "2e5886d6",
   "metadata": {},
   "source": [
    "## Index a tuple of tuples\n",
    "\n",
    "Considering the following tuple of tuples:\n",
    "\n",
    "random_numbers = ((1, 2, 3),(4, 5, 6),(7, 8, 9),(10, 11, 12))\n",
    "\n",
    "What is the right way to extract the number 8 from random_numbers?\n",
    "\n",
    "- random_numbers[3][2]\n",
    "- random_numbers[-1][-1]\n",
    "- random_numbers[-2][1]\n",
    "- random_numbers[-1][1]"
   ]
  },
  {
   "cell_type": "code",
   "execution_count": null,
   "id": "c7fa37ab",
   "metadata": {},
   "outputs": [],
   "source": []
  },
  {
   "cell_type": "markdown",
   "id": "a294fa0d",
   "metadata": {},
   "source": [
    "## Replace values in a tuple\n",
    "\n",
    "Can a tuple be modified after its creation? Try it..."
   ]
  },
  {
   "cell_type": "code",
   "execution_count": null,
   "id": "a458b1ef",
   "metadata": {},
   "outputs": [],
   "source": []
  },
  {
   "cell_type": "markdown",
   "id": "a43b4a9b",
   "metadata": {},
   "source": [
    "## Merge two tuples\n",
    "Considering the tuples below, create a tuple by merging them and assign it to a third tuple called this_tuple. Elements in tuple left should come before the ones on the right tuple."
   ]
  },
  {
   "cell_type": "code",
   "execution_count": null,
   "id": "9402b9e8",
   "metadata": {},
   "outputs": [],
   "source": [
    "left = (1,11,22215,7,14,1,11,9,1,6,2,5)\n",
    "right = (1,24,50,45,2,45,1,1,2,1,2,1,88,9,9,9,44,5,2)"
   ]
  },
  {
   "cell_type": "code",
   "execution_count": null,
   "id": "df2caa09",
   "metadata": {},
   "outputs": [],
   "source": []
  },
  {
   "cell_type": "markdown",
   "id": "a2aa4d50",
   "metadata": {},
   "source": [
    "# 2. Lists"
   ]
  },
  {
   "cell_type": "markdown",
   "id": "13bc4e4f",
   "metadata": {},
   "source": [
    "## List Creation\n",
    "Write a list named this_list with length five and with the string \"bananas\" on negative index -4."
   ]
  },
  {
   "cell_type": "code",
   "execution_count": null,
   "id": "e814149f",
   "metadata": {},
   "outputs": [],
   "source": [
    "this_list = [\"kiwi\", \"bananas\", \"melon\", \"lemon\", \"kiwi\"]"
   ]
  },
  {
   "cell_type": "markdown",
   "id": "c5012313",
   "metadata": {},
   "source": [
    "## Delete and append values in a list\n",
    "Giving the list ice_cream, delete \"chocolate\" and append \"dulce de leche\"."
   ]
  },
  {
   "cell_type": "code",
   "execution_count": null,
   "id": "d44812fb",
   "metadata": {},
   "outputs": [],
   "source": [
    "ice_cream = [\"lemon\", \"stracciatella\", \"pistacchio\", \"chocolate\", \"vanilla\"]"
   ]
  },
  {
   "cell_type": "code",
   "execution_count": null,
   "id": "3bf823e7",
   "metadata": {},
   "outputs": [],
   "source": []
  },
  {
   "cell_type": "markdown",
   "id": "e53ce6c0",
   "metadata": {},
   "source": [
    "## Delete the last value in a list\n",
    "Considering the following list, ice_cream = [\"lemon\", \"vanilla\", \"stracciatella\", \"pistacchio\", \"chocolate\", \"vanilla\"], what is the right answer if we want to delete \"vanilla\" in the last position?\n",
    "\n",
    "- del ice_cream[1]\n",
    "- del ice_cream[-1]\n",
    "- ice_cream.remove(\"vanilla\")\n",
    "- ice_cream[-1] = None"
   ]
  },
  {
   "cell_type": "code",
   "execution_count": null,
   "id": "ca5a72b0",
   "metadata": {},
   "outputs": [],
   "source": []
  },
  {
   "cell_type": "markdown",
   "id": "b6711d39",
   "metadata": {},
   "source": [
    "## List Operations\n",
    "Using list operations, create a list called hello_world of size 10000. It should have just two unique values, \"hello\" and \"world\". Starting with \"hello\" then \"world\", then \"hello\" and so on."
   ]
  },
  {
   "cell_type": "code",
   "execution_count": null,
   "id": "c0e8429a",
   "metadata": {},
   "outputs": [],
   "source": []
  },
  {
   "cell_type": "markdown",
   "id": "5b40ed58",
   "metadata": {},
   "source": [
    "## Replace values and sort a list\n",
    "Replace \"pistacchio\" in the list ice_cream by \"cream\". Add the sub-list others to the end of the list ice_cream.\n",
    "After these operations, sort the elements in the list and convert it to a tuple."
   ]
  },
  {
   "cell_type": "code",
   "execution_count": null,
   "id": "fedb28be",
   "metadata": {},
   "outputs": [],
   "source": [
    "ice_cream = [\"lemon\", \"stracciatella\", \"pistacchio\", \"chocolate\", \"vanilla\"]\n",
    "others = [\"dulce de leche\", \"caramel\", \"cookies\", \"peanut butter\"]"
   ]
  },
  {
   "cell_type": "code",
   "execution_count": null,
   "id": "378249a2",
   "metadata": {},
   "outputs": [],
   "source": []
  },
  {
   "cell_type": "markdown",
   "id": "d2fadc81",
   "metadata": {},
   "source": [
    "# 3. Sets "
   ]
  },
  {
   "cell_type": "markdown",
   "id": "0d03b61e",
   "metadata": {},
   "source": [
    "## Sets creation\n",
    "\n",
    "Declare:\n",
    "* set_1 with the elements: 1, 2, 3\n",
    "* set_2 with the elements: 3, 4, 5"
   ]
  },
  {
   "cell_type": "code",
   "execution_count": null,
   "id": "9ba0578a",
   "metadata": {},
   "outputs": [],
   "source": []
  },
  {
   "cell_type": "markdown",
   "id": "b5b514d1",
   "metadata": {},
   "source": [
    "## Apply mathematical operations\n"
   ]
  },
  {
   "cell_type": "markdown",
   "id": "8c30c374",
   "metadata": {},
   "source": [
    "1. Difference:\n",
    "    * Declare the variable diff_1 containing the difference between set_1 and set_2;\n",
    "    * Declare the variable diff_2 containing the difference between set_2 and set_1;\n",
    "2. Union: address this value to variable union\n",
    "3. Intersection: address this value to variable intersection\n",
    "4. Symmetrical difference: address this value to variable sym_diff\n",
    "\n",
    "Print each variable and stop to understand the results ;)\n",
    "\n",
    "\n"
   ]
  },
  {
   "cell_type": "code",
   "execution_count": null,
   "id": "470e0c36",
   "metadata": {},
   "outputs": [],
   "source": []
  }
 ],
 "metadata": {
  "kernelspec": {
   "display_name": "Python 3",
   "language": "python",
   "name": "python3"
  },
  "language_info": {
   "codemirror_mode": {
    "name": "ipython",
    "version": 3
   },
   "file_extension": ".py",
   "mimetype": "text/x-python",
   "name": "python",
   "nbconvert_exporter": "python",
   "pygments_lexer": "ipython3",
   "version": "3.8.8"
  }
 },
 "nbformat": 4,
 "nbformat_minor": 5
}
