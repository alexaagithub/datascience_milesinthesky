{
 "cells": [
  {
   "cell_type": "markdown",
   "id": "212061a4",
   "metadata": {},
   "source": [
    "# Dictionaries exercises"
   ]
  },
  {
   "cell_type": "markdown",
   "id": "6b9d0db7",
   "metadata": {},
   "source": [
    "## Create a dictionary\n",
    "Create a dictionary called this_dict with 3 key-value pairs where the keys are strings and values are empty lists."
   ]
  },
  {
   "cell_type": "code",
   "execution_count": 16,
   "id": "8f11d4be",
   "metadata": {},
   "outputs": [],
   "source": [
    "this_dict = {\n",
    "    \"a\":[],\n",
    "    \"b\":[],\n",
    "    \"c\":[]\n",
    "}"
   ]
  },
  {
   "cell_type": "markdown",
   "id": "eaef06af",
   "metadata": {},
   "source": [
    "## Extract a value from a dictionary\n",
    "Considering the following dictionary named groceries:\n",
    "What is the notation that we should use in order to extract \"grains\"?\n",
    "\n",
    "- groceries[\"type\"]\n",
    "- groceries[\"bread\"]\n",
    "- groceries[0][0]\n",
    "- groceries[\"bread\"][\"type\"]\n"
   ]
  },
  {
   "cell_type": "code",
   "execution_count": 17,
   "id": "27c8bdd3",
   "metadata": {},
   "outputs": [],
   "source": [
    "groceries = {             \n",
    "             \"bread\": {\"type\": \"grains\", \"price_per_unit\": 2, \"quantity_purchased\": 1},   \n",
    "             \"onions\": {\"type\": \"vegetables\", \"price_per_unit\": 0.5, \"quantity_purchased\": 2},   \n",
    "             \"spinages\": {\"type\": \"vegetables\" , \"price_per_unit\": 1.5, \"quantity_purchased\": 1}   \n",
    "            }"
   ]
  },
  {
   "cell_type": "code",
   "execution_count": 18,
   "id": "37ef0ac7",
   "metadata": {},
   "outputs": [
    {
     "data": {
      "text/plain": [
       "'grains'"
      ]
     },
     "execution_count": 18,
     "metadata": {},
     "output_type": "execute_result"
    }
   ],
   "source": [
    "groceries[\"bread\"][\"type\"]"
   ]
  },
  {
   "cell_type": "markdown",
   "id": "38394da6",
   "metadata": {},
   "source": [
    "## Replace, Append and Delete operations on dictionaries"
   ]
  },
  {
   "cell_type": "markdown",
   "id": "d1c14f63",
   "metadata": {},
   "source": [
    "Considering the dictionary groceries, update the price_per_unit for bread from 2 to 3."
   ]
  },
  {
   "cell_type": "code",
   "execution_count": 19,
   "id": "1124cbe6",
   "metadata": {},
   "outputs": [
    {
     "name": "stdout",
     "output_type": "stream",
     "text": [
      "3\n"
     ]
    }
   ],
   "source": [
    "groceries[\"bread\"][\"price_per_unit\"] = 3\n",
    "print(groceries[\"bread\"][\"price_per_unit\"])"
   ]
  },
  {
   "cell_type": "markdown",
   "id": "aa13f290",
   "metadata": {},
   "source": [
    "Add rice to our groceries. It should be of type grains, with a price per unit of 1 and in quantity 2."
   ]
  },
  {
   "cell_type": "code",
   "execution_count": 20,
   "id": "0510224f",
   "metadata": {},
   "outputs": [
    {
     "name": "stdout",
     "output_type": "stream",
     "text": [
      "{'type': 'grains', 'price_per_unit': 1, 'quantity_purchased': 2}\n"
     ]
    }
   ],
   "source": [
    "groceries[\"rice\"]={\"type\": \"grains\", \"price_per_unit\": 1, \"quantity_purchased\": 2}\n",
    "print(groceries[\"rice\"])"
   ]
  },
  {
   "cell_type": "markdown",
   "id": "d394d73d",
   "metadata": {},
   "source": [
    "Delete onions from our groceries dictionary."
   ]
  },
  {
   "cell_type": "code",
   "execution_count": 21,
   "id": "d3123e14",
   "metadata": {},
   "outputs": [
    {
     "data": {
      "text/plain": [
       "False"
      ]
     },
     "execution_count": 21,
     "metadata": {},
     "output_type": "execute_result"
    }
   ],
   "source": [
    "del groceries[\"onions\"]\n",
    "\"onions\" in groceries.keys()"
   ]
  },
  {
   "cell_type": "markdown",
   "id": "f940b99f",
   "metadata": {},
   "source": [
    "## Extract keys and values using methods"
   ]
  },
  {
   "cell_type": "markdown",
   "id": "14f24abe",
   "metadata": {},
   "source": [
    "Considering the following dictionary called people_age, extract keys and values of the dictionary to a variable called names and ages, respectively. Convert the variable ages to a list called list_ages and calculate how many people are senior and assign the value to n_seniors."
   ]
  },
  {
   "cell_type": "code",
   "execution_count": 22,
   "id": "96c0287f",
   "metadata": {},
   "outputs": [],
   "source": [
    "people_age = {\"joao\":\"senior\", \"bernardo\":\"adult\", \"alberto\":\"adult\", \"amilcar\":\"child\" }"
   ]
  },
  {
   "cell_type": "code",
   "execution_count": 23,
   "id": "61a998e6",
   "metadata": {},
   "outputs": [
    {
     "name": "stdout",
     "output_type": "stream",
     "text": [
      "dict_keys(['joao', 'bernardo', 'alberto', 'amilcar'])\n",
      "dict_values(['senior', 'adult', 'adult', 'child'])\n",
      "1\n"
     ]
    }
   ],
   "source": [
    "names = people_age.keys()\n",
    "print(names)\n",
    "ages = people_age.values()\n",
    "print(ages)\n",
    "list_ages = list(ages)\n",
    "n_seniors = list_ages.count(\"senior\")\n",
    "print(n_seniors)"
   ]
  }
 ],
 "metadata": {
  "kernelspec": {
   "display_name": "Python 3",
   "language": "python",
   "name": "python3"
  },
  "language_info": {
   "codemirror_mode": {
    "name": "ipython",
    "version": 3
   },
   "file_extension": ".py",
   "mimetype": "text/x-python",
   "name": "python",
   "nbconvert_exporter": "python",
   "pygments_lexer": "ipython3",
   "version": "3.8.8"
  }
 },
 "nbformat": 4,
 "nbformat_minor": 5
}
