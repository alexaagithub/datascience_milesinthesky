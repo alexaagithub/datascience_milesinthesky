{
 "cells": [
  {
   "cell_type": "markdown",
   "id": "c7adafb9",
   "metadata": {},
   "source": [
    "# Dictionaries exercises"
   ]
  },
  {
   "cell_type": "markdown",
   "id": "9591909d",
   "metadata": {},
   "source": [
    "## Create a dictionary\n",
    "Create a dictionary called this_dict with 3 key-value pairs where the keys are strings and values are empty lists."
   ]
  },
  {
   "cell_type": "code",
   "execution_count": null,
   "id": "4b9807d6",
   "metadata": {},
   "outputs": [],
   "source": []
  },
  {
   "cell_type": "markdown",
   "id": "32223141",
   "metadata": {},
   "source": [
    "## Extract a value from a dictionary\n",
    "Considering the following dictionary named groceries:\n",
    "What is the notation that we should use in order to extract \"grains\"?\n",
    "\n",
    "- groceries[\"type\"]\n",
    "- groceries[\"bread\"]\n",
    "- groceries[0][0]\n",
    "- groceries[\"bread\"][\"type\"]\n"
   ]
  },
  {
   "cell_type": "code",
   "execution_count": null,
   "id": "46816aa3",
   "metadata": {},
   "outputs": [],
   "source": [
    "groceries = {             \n",
    "             \"bread\": {\"type\": \"grains\", \"price_per_unit\": 2, \"quantity_purchased\": 1},   \n",
    "             \"onions\": {\"type\": \"vegetables\", \"price_per_unit\": 0.5, \"quantity_purchased\": 2},   \n",
    "             \"spinages\": {\"type\": \"vegetables\" , \"price_per_unit\": 1.5, \"quantity_purchased\": 1}   \n",
    "            }"
   ]
  },
  {
   "cell_type": "code",
   "execution_count": null,
   "id": "384dc4d6",
   "metadata": {},
   "outputs": [],
   "source": []
  },
  {
   "cell_type": "markdown",
   "id": "de416076",
   "metadata": {},
   "source": [
    "## Replace, Append and Delete operations on dictionaries"
   ]
  },
  {
   "cell_type": "markdown",
   "id": "6bffa1e2",
   "metadata": {},
   "source": [
    "Considering the dictionary groceries, update the price_per_unit for bread from 2 to 3."
   ]
  },
  {
   "cell_type": "code",
   "execution_count": null,
   "id": "a105c447",
   "metadata": {},
   "outputs": [],
   "source": []
  },
  {
   "cell_type": "markdown",
   "id": "4b6ce202",
   "metadata": {},
   "source": [
    "Add rice to our groceries. It should be of type grains, with a price per unit of 1 and in quantity 2."
   ]
  },
  {
   "cell_type": "code",
   "execution_count": null,
   "id": "e492e64a",
   "metadata": {},
   "outputs": [],
   "source": []
  },
  {
   "cell_type": "markdown",
   "id": "ea046dba",
   "metadata": {},
   "source": [
    "Delete onions from our groceries dictionary."
   ]
  },
  {
   "cell_type": "code",
   "execution_count": null,
   "id": "cfc8146a",
   "metadata": {},
   "outputs": [],
   "source": []
  },
  {
   "cell_type": "markdown",
   "id": "0cab65be",
   "metadata": {},
   "source": [
    "## Extract keys and values using methods"
   ]
  },
  {
   "cell_type": "markdown",
   "id": "5d752f5c",
   "metadata": {},
   "source": [
    "Considering the following dictionary called people_age, extract keys and values of the dictionary to a variable called names and ages, respectively. Convert the variable ages to a list called list_ages and calculate how many people are senior and assign the value to n_seniors."
   ]
  },
  {
   "cell_type": "code",
   "execution_count": null,
   "id": "53be48aa",
   "metadata": {},
   "outputs": [],
   "source": [
    "people_age = {\"joao\":\"senior\", \"bernardo\":\"adult\", \"alberto\":\"adult\", \"amilcar\":\"child\" }"
   ]
  },
  {
   "cell_type": "code",
   "execution_count": null,
   "id": "862c8bbe",
   "metadata": {},
   "outputs": [],
   "source": []
  }
 ],
 "metadata": {
  "kernelspec": {
   "display_name": "Python 3",
   "language": "python",
   "name": "python3"
  },
  "language_info": {
   "codemirror_mode": {
    "name": "ipython",
    "version": 3
   },
   "file_extension": ".py",
   "mimetype": "text/x-python",
   "name": "python",
   "nbconvert_exporter": "python",
   "pygments_lexer": "ipython3",
   "version": "3.8.8"
  }
 },
 "nbformat": 4,
 "nbformat_minor": 5
}
